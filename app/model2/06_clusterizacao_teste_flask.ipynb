{
 "cells": [
  {
   "cell_type": "code",
   "execution_count": 26,
   "metadata": {},
   "outputs": [
    {
     "name": "stdout",
     "output_type": "stream",
     "text": [
      "Cluster: 10\n",
      "Risco: Risco Moderado-Baixo\n",
      "Propensão de default do grupo: 0.11065676899849018\n"
     ]
    }
   ],
   "source": [
    "import requests\n",
    "import numpy as np\n",
    "\n",
    "# URL da API\n",
    "url = 'http://localhost:5000/predict_clusterization'\n",
    "\n",
    "# Dados de entrada\n",
    "data = {\n",
    "    \"loan_amount\": np.log(100000),\n",
    "    \"income\": np.log(50000),\n",
    "    \"Credit_Score\": 700,\n",
    "    \"approv_in_adv_pre\": True,\n",
    "    \"credit_type_CRIF\": False,\n",
    "    \"credit_type_EQUI\": False,\n",
    "    \"credit_type_EXP\": True,\n",
    "    \"loan_purpose_p2\": True,\n",
    "    \"loan_purpose_p3\": False,\n",
    "    \"loan_purpose_p4\": False,\n",
    "    \"age_35-44\": True,\n",
    "    \"age_45-54\": False,\n",
    "    \"age_55-64\": False,\n",
    "    \"age_65-74\": False,\n",
    "    \"age_<25\": False,\n",
    "    \"age_>74\": False,\n",
    "    \"co_applicant_credit_type_EXP\": True,\n",
    "    \"submission_of_application_to_inst\": False,\n",
    "    \"lump_sum_payment_not_lpsm\": True\n",
    "}\n",
    "\n",
    "try:\n",
    "    # Enviar a solicitação para a API\n",
    "    response = requests.post(url, json=data)\n",
    "\n",
    "    # Verificar se a solicitação foi bem-sucedida\n",
    "    if response.status_code == 200:\n",
    "        # Exibir a resposta formatada\n",
    "        json_response = response.json()\n",
    "        print(\"Cluster:\", json_response['cluster'])\n",
    "        print(\"Risco:\", json_response['label'])\n",
    "        print(\"Propensão de default do cluster:\", json_response['propensao_default'])\n",
    "    else:\n",
    "        print(f\"Erro: {response.status_code} - {response.text}\")\n",
    "except Exception as e:\n",
    "    print(f\"Ocorreu um erro ao enviar a solicitação: {e}\")\n"
   ]
  }
 ],
 "metadata": {
  "kernelspec": {
   "display_name": "Python 3",
   "language": "python",
   "name": "python3"
  },
  "language_info": {
   "codemirror_mode": {
    "name": "ipython",
    "version": 3
   },
   "file_extension": ".py",
   "mimetype": "text/x-python",
   "name": "python",
   "nbconvert_exporter": "python",
   "pygments_lexer": "ipython3",
   "version": "3.12.2"
  }
 },
 "nbformat": 4,
 "nbformat_minor": 2
}
